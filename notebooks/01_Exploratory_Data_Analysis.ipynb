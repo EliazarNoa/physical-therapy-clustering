{
 "cells": [
  {
   "cell_type": "code",
   "execution_count": null,
   "metadata": {},
   "outputs": [],
   "source": [
    "import os\n",
    "import pandas as pd\n",
    "\n",
    "# Ruta a la carpeta del sujeto s1\n",
    "s1_path = '../data/s1/'\n",
    "\n",
    "# Lista para almacenar los DataFrames de template_session.txt\n",
    "dfs = []\n",
    "\n",
    "# Iterar sobre cada ejercicio\n",
    "for exercise_folder in os.listdir(s1_path):\n",
    "    exercise_path = os.path.join(s1_path, exercise_folder)\n",
    "    \n",
    "    # Iterar sobre cada unidad en el ejercicio\n",
    "    for unit_folder in os.listdir(exercise_path):\n",
    "        # Añadir la condición para excluir \"template_times.txt\"\n",
    "        if unit_folder != \"template_times.txt\":\n",
    "            unit_path = os.path.join(exercise_path, unit_folder)\n",
    "            \n",
    "            # Construir la ruta completa al archivo template_session.txt\n",
    "            template_session_path = os.path.join(unit_path, 'template_session.txt')\n",
    "            \n",
    "            # Verificar si el archivo existe antes de intentar leerlo\n",
    "            if os.path.isfile(template_session_path):\n",
    "                # Leer el archivo y convertirlo a DataFrame\n",
    "                df = pd.read_csv(template_session_path, sep=';')\n",
    "                \n",
    "                # Agregar columnas para identificar el ejercicio y la unidad\n",
    "                df['Exercise'] = exercise_folder\n",
    "                df['Unit'] = unit_folder\n",
    "                \n",
    "                # Agregar el DataFrame a la lista\n",
    "                dfs.append(df)\n",
    "            else:\n",
    "                print(f\"¡ADVERTENCIA: El archivo {template_session_path} no existe!\")\n",
    "\n",
    "# Concatenar todos los DataFrames en uno solo\n",
    "result_df = pd.concat(dfs, ignore_index=True)\n",
    "\n",
    "# Guardar el resultado en un nuevo archivo CSV\n",
    "result_df.to_csv('merged_template_session.csv', index=False)"
   ]
  },
  {
   "cell_type": "code",
   "execution_count": null,
   "metadata": {},
   "outputs": [],
   "source": [
    "import pandas as pd\n",
    "\n",
    "# Ruta al archivo CSV generado\n",
    "csv_path = 'merged_template_session.csv'\n",
    "\n",
    "# Leer el archivo CSV en un DataFrame\n",
    "template_session = pd.read_csv(csv_path)\n",
    "\n",
    "# Mostrar las primeras filas del DataFrame para verificar\n",
    "template_session.head()\n"
   ]
  },
  {
   "cell_type": "code",
   "execution_count": null,
   "metadata": {},
   "outputs": [],
   "source": [
    "import plotly.graph_objects as go\n",
    "\n",
    "# Filtrar datos para el ejercicio 1 y la unidad 1\n",
    "exercise_1_unit_1 = template_session[(template_session['Exercise'] == 'e1') & (template_session['Unit'] == 'u1')]\n",
    "\n",
    "# Crear una figura para cada eje del acelerómetro\n",
    "fig = go.Figure()\n",
    "\n",
    "# Graficar serie temporal para el eje X del acelerómetro\n",
    "fig.add_trace(go.Scatter(x=exercise_1_unit_1['time index'], y=exercise_1_unit_1['acc_x'], mode='lines', name='Aceleración X', line=dict(color='red')))\n",
    "fig.update_layout(title='Serie Temporal del Acelerómetro - Aceleración X', xaxis_title='Índice de Tiempo', yaxis_title='Aceleración')\n",
    "\n",
    "# Mostrar el gráfico para el eje X\n",
    "fig.show()\n",
    "\n",
    "# Crear una nueva figura para el eje Y del acelerómetro\n",
    "fig = go.Figure()\n",
    "\n",
    "# Graficar serie temporal para el eje Y del acelerómetro\n",
    "fig.add_trace(go.Scatter(x=exercise_1_unit_1['time index'], y=exercise_1_unit_1['acc_y'], mode='lines', name='Aceleración Y', line=dict(color='green')))\n",
    "fig.update_layout(title='Serie Temporal del Acelerómetro - Aceleración Y', xaxis_title='Índice de Tiempo', yaxis_title='Aceleración')\n",
    "\n",
    "# Mostrar el gráfico para el eje Y\n",
    "fig.show()\n",
    "\n",
    "# Crear una nueva figura para el eje Z del acelerómetro\n",
    "fig = go.Figure()\n",
    "\n",
    "# Graficar serie temporal para el eje Z del acelerómetro\n",
    "fig.add_trace(go.Scatter(x=exercise_1_unit_1['time index'], y=exercise_1_unit_1['acc_z'], mode='lines', name='Aceleración Z', line=dict(color='blue')))\n",
    "fig.update_layout(title='Serie Temporal del Acelerómetro - Aceleración Z', xaxis_title='Índice de Tiempo', yaxis_title='Aceleración')\n",
    "\n",
    "# Mostrar el gráfico para el eje Z\n",
    "fig.show()\n"
   ]
  },
  {
   "cell_type": "code",
   "execution_count": null,
   "metadata": {},
   "outputs": [],
   "source": [
    "%pip install fastdtw"
   ]
  },
  {
   "cell_type": "code",
   "execution_count": null,
   "metadata": {},
   "outputs": [],
   "source": [
    "test_acc.T0"
   ]
  },
  {
   "cell_type": "code",
   "execution_count": null,
   "metadata": {},
   "outputs": [],
   "source": [
    "import numpy as np\n",
    "from fastdtw.fastdtw import fastdtw\n",
    "\n",
    "def calculate_distances(template, test):\n",
    "    distances = []\n",
    "    for i in range(template.shape[1]):\n",
    "        for j in range(test.shape[1]):\n",
    "            distance, _ = fastdtw(template[:, i], test[:, j])\n",
    "            distances.append(distance)\n",
    "    return distances\n",
    "\n",
    "# Leer los datos del archivo template_session.txt\n",
    "template_data = np.loadtxt('../data/s1/e1/u1/template_session.txt', delimiter=';', skiprows=1)\n",
    "\n",
    "# Leer los datos del archivo test.txt\n",
    "test_data = np.loadtxt('../data/s1/e1/u1/template_session.txt', delimiter=';', skiprows=1)\n",
    "\n",
    "# Obtener las columnas relevantes para acelerómetro (acc), giroscopio (gyr), y magnetómetro (mag)\n",
    "template_acc = template_data[:, 1:4]\n",
    "test_acc = test_data[:, 1:4]\n",
    "\n",
    "# Aplicar el algoritmo MTMM-DTW para acelerómetro\n",
    "distances_acc = calculate_distances(template_acc.T, test_acc.T)\n",
    "\n",
    "# Repite el proceso para giroscopio y magnetómetro si es necesario\n",
    "\n",
    "# Mostrar las distancias resultantes\n",
    "print(\"Distancias para acelerómetro:\", distances_acc)\n"
   ]
  }
 ],
 "metadata": {
  "kernelspec": {
   "display_name": "base",
   "language": "python",
   "name": "python3"
  },
  "language_info": {
   "codemirror_mode": {
    "name": "ipython",
    "version": 3
   },
   "file_extension": ".py",
   "mimetype": "text/x-python",
   "name": "python",
   "nbconvert_exporter": "python",
   "pygments_lexer": "ipython3",
   "version": "3.11.5"
  }
 },
 "nbformat": 4,
 "nbformat_minor": 2
}
